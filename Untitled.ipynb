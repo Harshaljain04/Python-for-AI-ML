{
 "cells": [
  {
   "cell_type": "code",
   "execution_count": 1,
   "metadata": {},
   "outputs": [],
   "source": [
    "import pandas as pd\n",
    "import numpy as np"
   ]
  },
  {
   "cell_type": "code",
   "execution_count": 2,
   "id": "138d50e4",
   "metadata": {},
   "outputs": [
    {
     "data": {
      "text/plain": [
       "0     5\n",
       "1     9\n",
       "2    12\n",
       "3    11\n",
       "dtype: int64"
      ]
     },
     "execution_count": 2,
     "metadata": {},
     "output_type": "execute_result"
    }
   ],
   "source": [
    "my_series = [5,9,12,11]\n",
    "my_var = pd.Series(my_series)\n",
    "my_var"
   ]
  },
  {
   "cell_type": "code",
   "execution_count": 3,
   "id": "484901b3",
   "metadata": {},
   "outputs": [
    {
     "data": {
      "text/plain": [
       "12"
      ]
     },
     "execution_count": 3,
     "metadata": {},
     "output_type": "execute_result"
    }
   ],
   "source": [
    "my_var[2]\n"
   ]
  },
  {
   "cell_type": "code",
   "execution_count": 4,
   "id": "ceb838fe",
   "metadata": {},
   "outputs": [],
   "source": [
    "my_index = [\"A\", \"B\" , \"C\", \"D\" ]\n",
    "my_var2 = pd.Series(my_series, my_index)"
   ]
  },
  {
   "cell_type": "code",
   "execution_count": 5,
   "id": "143f6543",
   "metadata": {},
   "outputs": [
    {
     "data": {
      "text/plain": [
       "A     5\n",
       "B     9\n",
       "C    12\n",
       "D    11\n",
       "dtype: int64"
      ]
     },
     "execution_count": 5,
     "metadata": {},
     "output_type": "execute_result"
    }
   ],
   "source": [
    "my_var2"
   ]
  },
  {
   "cell_type": "code",
   "execution_count": 6,
   "id": "925ba3eb",
   "metadata": {},
   "outputs": [
    {
     "data": {
      "text/plain": [
       "Tesla       12\n",
       "Mercedes    17\n",
       "BMW         23\n",
       "dtype: int64"
      ]
     },
     "execution_count": 6,
     "metadata": {},
     "output_type": "execute_result"
    }
   ],
   "source": [
    "cars = {\"Tesla\":12, \"Mercedes\":17, \"BMW\":23}\n",
    "my_var3 = pd.Series(cars)\n",
    "my_var3"
   ]
  },
  {
   "cell_type": "code",
   "execution_count": null,
   "id": "6d82522d",
   "metadata": {},
   "outputs": [],
   "source": []
  }
 ],
 "metadata": {
  "kernelspec": {
   "display_name": "base",
   "language": "python",
   "name": "python3"
  },
  "language_info": {
   "codemirror_mode": {
    "name": "ipython",
    "version": 3
   },
   "file_extension": ".py",
   "mimetype": "text/x-python",
   "name": "python",
   "nbconvert_exporter": "python",
   "pygments_lexer": "ipython3",
   "version": "3.12.4"
  }
 },
 "nbformat": 4,
 "nbformat_minor": 5
}
